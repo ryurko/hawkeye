{
 "cells": [
  {
   "cell_type": "markdown",
   "metadata": {},
   "source": [
    "### Save all Rally point  data"
   ]
  },
  {
   "cell_type": "code",
   "execution_count": 4,
   "metadata": {},
   "outputs": [],
   "source": [
    "import pandas as pd\n",
    "import numpy as np\n",
    "import json\n",
    "import os\n",
    "\n",
    "pd.set_option('display.max_columns', None)\n",
    "pd.set_option(\"max_rows\", None)\n",
    "# --> Import functions from \"process\" script\n",
    "import sys\n",
    "sys.path.append('../src')\n",
    "\n",
    "from process import categorise_serve_direction, get_point_level_info, get_match_point_level_info, add_server_and_returner_scores, add_cum_games_and_sets, collect_serve_return_locations, collect_serve_plus1_locations\n"
   ]
  },
  {
   "cell_type": "code",
   "execution_count": 5,
   "metadata": {},
   "outputs": [
    {
     "name": "stdout",
     "output_type": "stream",
     "text": [
      "Could not get score columns...\n",
      "Could not get score columns...\n",
      "Could not get score columns...\n",
      "Could not get score columns...\n",
      "Could not get score columns...\n",
      "Could not get score columns...\n"
     ]
    }
   ],
   "source": [
    "tournament_list = ['roland_garros', 'australian_open']\n",
    "league_list = ['atp', 'wta']\n",
    "\n",
    "for tournament in tournament_list:\n",
    "    for league in league_list:\n",
    "        dir_name = '../all_json/' + tournament + '/' + league + '/'\n",
    "        \n",
    "        for filename in os.listdir(dir_name):\n",
    "            if filename.endswith(\".json\"):\n",
    "                \n",
    "                #print(filename)\n",
    "                with open(dir_name + filename) as file_name:\n",
    "                    tracking_data_json = json.load(file_name)\n",
    "                    file_year = [int(s) for s in filename.split('_') if s.isdigit()]\n",
    "                    match_id = filename[17:-19]\n",
    "                    match_pbp_data =  get_match_point_level_info(tracking_data_json)\n",
    "                    \n",
    "                    save_data_filename = league + '_' + tournament + '_' + str(file_year[0]) + '_' + match_id + '_pbp' + '.csv'  \n",
    "                    \n",
    "                    match_pbp_data.to_csv(save_data_filename, index = False)\n",
    "        \n",
    "            else:\n",
    "                continue"
   ]
  },
  {
   "cell_type": "code",
   "execution_count": null,
   "metadata": {},
   "outputs": [],
   "source": []
  }
 ],
 "metadata": {
  "kernelspec": {
   "display_name": "Python 3",
   "language": "python",
   "name": "python3"
  },
  "language_info": {
   "codemirror_mode": {
    "name": "ipython",
    "version": 3
   },
   "file_extension": ".py",
   "mimetype": "text/x-python",
   "name": "python",
   "nbconvert_exporter": "python",
   "pygments_lexer": "ipython3",
   "version": "3.8.5"
  }
 },
 "nbformat": 4,
 "nbformat_minor": 4
}
